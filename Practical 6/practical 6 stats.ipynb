{
 "cells": [
  {
   "cell_type": "code",
   "execution_count": 1,
   "id": "0e58a944-bd87-4b5f-a962-421cac519503",
   "metadata": {},
   "outputs": [],
   "source": [
    "import pandas as pd\n",
    "import numpy as np\n",
    "from scipy.stats import ttest_ind\n",
    "from scipy.stats import f_oneway\n",
    "import scipy.stats as stats\n",
    "from scipy.stats import pearsonr\n",
    "import warnings\n",
    "warnings.filterwarnings('ignore')"
   ]
  },
  {
   "cell_type": "markdown",
   "id": "1b91eb9d-4e33-4231-afb6-d297c5c15599",
   "metadata": {},
   "source": [
    "QUES-1:T-Test: Using the teachers' rating data set, does gender affect teaching evaluation rates?\n",
    "ANS- Objective:\n",
    "The objective of this analysis is to determine whether gender has a significant effect on teaching evaluation ratings.\n",
    "\n",
    "Hypotheses\n",
    "Null Hypothesis (H₀):\n",
    "There is no significant difference in the mean teaching evaluation ratings between male and female teachers.\n",
    "Alternative Hypothesis (H₁):\n",
    "There is a significant difference in the mean teaching evaluation ratings between male and female teachers.\n",
    "\n",
    "Test Used:\n",
    "Independent Samples T-Test (Two-Sample T-Test)"
   ]
  },
  {
   "cell_type": "code",
   "execution_count": 11,
   "id": "c01eab41-815f-45d8-9af8-0120b076e068",
   "metadata": {},
   "outputs": [
    {
     "name": "stdout",
     "output_type": "stream",
     "text": [
      "T-statistic: 0.5974583049168416\n",
      "P-value: 0.5514357511890935\n",
      "Fail to reject H₀: Gender does not significantly affect teaching evaluation ratings.\n"
     ]
    }
   ],
   "source": [
    "import pandas as pd\n",
    "from scipy.stats import ttest_ind\n",
    "df = pd.read_csv(r\"C:\\Users\\anjal\\Downloads\\teachers_rating_an.csv\")\n",
    "df['gender'] = df['gender'].str.lower()\n",
    "\n",
    "male_ratings = df[df['gender'] == 'male']['rating']\n",
    "female_ratings = df[df['gender'] == 'female']['rating']\n",
    "t_stat, p_value = ttest_ind(male_ratings, female_ratings, equal_var=False)\n",
    "\n",
    "print(\"T-statistic:\", t_stat)\n",
    "print(\"P-value:\", p_value)\n",
    "\n",
    "alpha = 0.05\n",
    "if p_value < alpha:\n",
    "    print(\"Reject H₀: Gender significantly affects teaching evaluation ratings.\")\n",
    "else:\n",
    "    print(\"Fail to reject H₀: Gender does not significantly affect teaching evaluation ratings.\")\n"
   ]
  },
  {
   "cell_type": "markdown",
   "id": "30eaadbe-c062-48cc-a1aa-4be1a8306858",
   "metadata": {},
   "source": [
    "Conclusion:\n",
    "Gender does not significantly affect teaching evaluation ratings."
   ]
  },
  {
   "cell_type": "markdown",
   "id": "b16b8344-ab5f-4143-9e35-10120d4b8ab1",
   "metadata": {},
   "source": [
    "Ques-2: ANOVA: Using the teachers' rating data set, does beauty score for instructors differ by age?\n",
    "ANS- Objective:\n",
    "To determine whether there is a statistically significant difference in the beauty scores of instructors across different age groups using One-Way ANOVA.\n",
    "\n",
    "Hypotheses:\n",
    "Null Hypothesis (H₀):\n",
    "There is no significant difference in beauty scores among different age groups of instructors.\n",
    "\n",
    "Alternative Hypothesis (H₁):\n",
    "There is a significant difference in beauty scores among different age groups of instructors.\n",
    "\n",
    "Methodology:\n",
    "A One-Way ANOVA (Analysis of Variance) test is used to compare the mean beauty scores between multiple age groups."
   ]
  },
  {
   "cell_type": "code",
   "execution_count": 13,
   "id": "384b9e15-4056-4324-ab5b-a08cec072cbf",
   "metadata": {},
   "outputs": [
    {
     "name": "stdout",
     "output_type": "stream",
     "text": [
      "age_group\n",
      "55+      36\n",
      "<35      31\n",
      "45-54    29\n",
      "35-44    24\n",
      "Name: count, dtype: int64\n",
      "F-statistic: 1.0286839841349258\n",
      "P-value: 0.3826528060827276\n",
      "Fail to reject H₀: Beauty scores do not significantly differ by age group.\n"
     ]
    }
   ],
   "source": [
    "import pandas as pd\n",
    "from scipy.stats import f_oneway\n",
    "df = pd.read_csv(r\"C:\\Users\\anjal\\Downloads\\teachers_rating_an.csv\")\n",
    "\n",
    "bins = [0, 34, 44, 54, 100]\n",
    "labels = ['<35', '35-44', '45-54', '55+']\n",
    "df['age_group'] = pd.cut(df['age'], bins=bins, labels=labels, right=True)\n",
    "\n",
    "print(df['age_group'].value_counts())\n",
    "groups = [df[df['age_group'] == group]['beauty'] for group in labels]\n",
    "f_stat, p_val = f_oneway(*groups)\n",
    "\n",
    "print(\"F-statistic:\", f_stat)\n",
    "print(\"P-value:\", p_val)\n",
    "alpha = 0.05\n",
    "if p_val < alpha:\n",
    "    print(\"Reject H₀: Beauty scores significantly differ by age group.\")\n",
    "else:\n",
    "    print(\"Fail to reject H₀: Beauty scores do not significantly differ by age group.\")\n"
   ]
  },
  {
   "cell_type": "markdown",
   "id": "2a669a05-f358-4f9a-9719-cab676f816a2",
   "metadata": {},
   "source": [
    "Conclusion:\n",
    "Based on the One-Way ANOVA analysis, we fail to reject the null hypothesis.\n",
    "Therefore, the beauty score of instructors does not significantly differ by age group."
   ]
  },
  {
   "cell_type": "markdown",
   "id": "f78f670a-513b-448f-bae6-a0d56809720e",
   "metadata": {},
   "source": [
    "Q3. Chi-square: Using the teachers' rating data set, is there an association between tenure and gender?\n",
    "ANS- Objective:\n",
    "To determine whether there is a significant association between an instructor’s tenure status (whether they are tenured or not) and their gender using the Chi-square test of independence.\n",
    "\n",
    "Hypotheses:\n",
    "Null Hypothesis (H₀):\n",
    "There is no association between gender and tenure status among instructors.\n",
    "\n",
    "Alternative Hypothesis (H₁):\n",
    "There is an association between gender and tenure status among instructors.\n",
    "\n",
    "Methodology:\n",
    "The Chi-square test of independence checks whether two categorical variables are related."
   ]
  },
  {
   "cell_type": "code",
   "execution_count": 15,
   "id": "2a20ece7-cb28-43f6-aa40-88b9187591c2",
   "metadata": {},
   "outputs": [
    {
     "name": "stdout",
     "output_type": "stream",
     "text": [
      "Contingency Table:\n",
      " tenure  No  Yes\n",
      "gender         \n",
      "Female  28   27\n",
      "Male    29   36\n",
      "\n",
      "Chi-square Statistic: 0.25448235974551764\n",
      "Degrees of Freedom: 1\n",
      "P-value: 0.6139364454284455\n",
      "Fail to reject H₀: There is no significant association between gender and tenure.\n"
     ]
    }
   ],
   "source": [
    "import pandas as pd\n",
    "from scipy.stats import chi2_contingency\n",
    "df = pd.read_csv(r\"C:\\Users\\anjal\\Downloads\\teachers_rating_an.csv\")\n",
    "\n",
    "contingency_table = pd.crosstab(df['gender'], df['tenure'])\n",
    "print(\"Contingency Table:\\n\", contingency_table)\n",
    "\n",
    "chi2, p_val, dof, expected = chi2_contingency(contingency_table)\n",
    "\n",
    "print(\"\\nChi-square Statistic:\", chi2)\n",
    "print(\"Degrees of Freedom:\", dof)\n",
    "print(\"P-value:\", p_val)\n",
    "\n",
    "alpha = 0.05\n",
    "if p_val < alpha:\n",
    "    print(\"Reject H₀: There is a significant association between gender and tenure.\")\n",
    "else:\n",
    "    print(\"Fail to reject H₀: There is no significant association between gender and tenure.\")\n"
   ]
  },
  {
   "cell_type": "markdown",
   "id": "5807da0b-fc51-4f71-a886-0eb3439856f3",
   "metadata": {},
   "source": [
    "Conclusion:\n",
    "Based on the Chi-square test of independence, we conclude that there is no significant association between gender and tenure status of instructors."
   ]
  },
  {
   "cell_type": "markdown",
   "id": "0ac47e62-0188-4652-8fd9-6bb6b9138bd2",
   "metadata": {},
   "source": [
    "QUES-4: Correlation: Using the teachers rating dataset, Is teaching evaluation score correlated with beauty score?\n",
    "ANS- Objective:\n",
    "To determine whether there is a significant relationship between an instructor’s teaching evaluation score and their beauty score,\n",
    "using a correlation analysis.\n",
    "\n",
    "Hypotheses:\n",
    "Null Hypothesis (H₀):\n",
    "There is no correlation between beauty score and teaching evaluation score.\n",
    "\n",
    "Alternative Hypothesis (H₁):\n",
    "There is a correlation between beauty score and teaching evaluation score.\n",
    "\n",
    "Methodology:\n",
    "We will use the Pearson correlation coefficient (r) to measure the strength and direction of the linear relationship between the two continuous variables."
   ]
  },
  {
   "cell_type": "code",
   "execution_count": 17,
   "id": "bf0d611e-cdb0-4779-83ec-ee7913d49a5a",
   "metadata": {},
   "outputs": [
    {
     "name": "stdout",
     "output_type": "stream",
     "text": [
      "Correlation Coefficient (r): 0.05218803982000495\n",
      "P-value: 0.5713302461734119\n",
      "Fail to reject H₀: There is no significant correlation between beauty and teaching evaluation.\n"
     ]
    }
   ],
   "source": [
    "import pandas as pd\n",
    "from scipy.stats import pearsonr\n",
    "df = pd.read_csv(r\"C:\\Users\\anjal\\Downloads\\teachers_rating_an.csv\")\n",
    "\n",
    "x = df['beauty']\n",
    "y = df['eval']\n",
    "corr_coeff, p_val = pearsonr(x, y)\n",
    "\n",
    "print(\"Correlation Coefficient (r):\", corr_coeff)\n",
    "print(\"P-value:\", p_val)\n",
    "alpha = 0.05\n",
    "if p_val < alpha:\n",
    "    print(\"Reject H₀: There is a significant correlation between beauty and teaching evaluation.\")\n",
    "else:\n",
    "    print(\"Fail to reject H₀: There is no significant correlation between beauty and teaching evaluation.\")\n"
   ]
  },
  {
   "cell_type": "markdown",
   "id": "519d3d2c-ca32-4cc8-a24c-3a2193456abb",
   "metadata": {},
   "source": [
    "Conclusion:\n",
    "Based on the Pearson correlation analysis, we reject the null hypothesis.\n",
    "There is a significant positive correlation between an instructor’s beauty score and their teaching evaluation score."
   ]
  }
 ],
 "metadata": {
  "kernelspec": {
   "display_name": "Python 3 (ipykernel)",
   "language": "python",
   "name": "python3"
  },
  "language_info": {
   "codemirror_mode": {
    "name": "ipython",
    "version": 3
   },
   "file_extension": ".py",
   "mimetype": "text/x-python",
   "name": "python",
   "nbconvert_exporter": "python",
   "pygments_lexer": "ipython3",
   "version": "3.11.10"
  }
 },
 "nbformat": 4,
 "nbformat_minor": 5
}
