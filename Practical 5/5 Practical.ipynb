{
 "cells": [
  {
   "cell_type": "markdown",
   "id": "569cf17d-4784-496e-be11-83284bb60e13",
   "metadata": {},
   "source": [
    "Importing necessary libraries and dataset\n",
    "\n",
    "\n",
    "\n"
   ]
  },
  {
   "cell_type": "code",
   "execution_count": 4,
   "id": "81d01321-ad5e-4840-a57b-61fa44915a2f",
   "metadata": {},
   "outputs": [
    {
     "name": "stdout",
     "output_type": "stream",
     "text": [
      "Columns in dataset: ['prof', 'age', 'eval', 'beauty', 'rating', 'students', 'gender', 'tenure', 'division']\n",
      "Using column: rating\n"
     ]
    }
   ],
   "source": [
    "\n",
    "import pandas as pd\n",
    "\n",
    "\n",
    "df = pd.read_csv(r\"C:\\Users\\vansh\\Downloads\\teachers_rating_an.csv\")\n",
    "\n",
    "\n",
    "print(\"Columns in dataset:\", df.columns.tolist())\n",
    "\n",
    "\n",
    "rating_col = None\n",
    "for col in df.columns:\n",
    "    if 'score' in col.lower() or 'rating' in col.lower():\n",
    "        rating_col = col\n",
    "        break\n",
    "\n",
    "if rating_col is None:\n",
    "    raise ValueError(\"No column with 'score' or 'rating' found!\")\n",
    "\n",
    "print(\"Using column:\", rating_col)\n",
    "\n",
    "\n"
   ]
  },
  {
   "cell_type": "markdown",
   "id": "2f514afe-a042-49f6-a76d-a042867f5316",
   "metadata": {},
   "source": [
    "Q1. Using the teachers' rating dataset, what is the probability of receiving an evaluation score of greater than 4.5"
   ]
  },
  {
   "cell_type": "code",
   "execution_count": 5,
   "id": "a23fd84f-31f5-49d8-82b4-9f114e690c03",
   "metadata": {},
   "outputs": [
    {
     "name": "stdout",
     "output_type": "stream",
     "text": [
      "Probability of evaluation score > 4.5: 0.24166666666666667\n"
     ]
    }
   ],
   "source": [
    "\n",
    "prob_above_4_5 = len(df[df[rating_col] > 4.5]) / len(df)\n",
    "print(\"Probability of evaluation score > 4.5:\", prob_above_4_5)\n"
   ]
  },
  {
   "cell_type": "markdown",
   "id": "e8ecfd24-034b-4c11-863f-7b07913ab6dd",
   "metadata": {},
   "source": [
    "The probability of a teacher getting an evaluation score greater than 4.5 is:\n",
    "\n",
    "P(score>4.5)=0.242≈24%\n",
    "\n",
    "This means that if we randomly select a teacher, there is a 24% chance that the teacher will receive a rating higher than 4.5. So roughly 1 out of 4 teachers gets an excellent rating."
   ]
  },
  {
   "cell_type": "markdown",
   "id": "a91582c8-76a5-4964-bac1-332301b5a724",
   "metadata": {},
   "source": [
    "Q2. Using the teachers' rating dataset, what is the probability of receiving an evaluation score greater than 3.5 and less than 4.2"
   ]
  },
  {
   "cell_type": "code",
   "execution_count": 6,
   "id": "de489de9-b33c-4fe4-b549-8c0cf91be8cd",
   "metadata": {},
   "outputs": [
    {
     "name": "stdout",
     "output_type": "stream",
     "text": [
      "Probability of evaluation score between 3.5 and 4.2: 0.43333333333333335\n"
     ]
    }
   ],
   "source": [
    "\n",
    "prob_between_3_5_4_2 = len(df[(df[rating_col] > 3.5) & (df[rating_col] < 4.2)]) / len(df)\n",
    "print(\"Probability of evaluation score between 3.5 and 4.2:\", prob_between_3_5_4_2)"
   ]
  },
  {
   "cell_type": "markdown",
   "id": "6e1badc5-7137-4415-a763-2f964213c3db",
   "metadata": {},
   "source": [
    "The probability of a teacher getting an evaluation score between 3.5 and 4.2 is:\n",
    "P(3.5<score<4.2)=0.417≈42%\n",
    "If we randomly select a teacher, there is a 42% chance that the teacher will receive a rating in the moderate range between 3.5 and 4.2. Most teachers fall in this average rating range."
   ]
  },
  {
   "cell_type": "markdown",
   "id": "e34b9873-1554-4c84-84ba-b9a8a13f30e2",
   "metadata": {},
   "source": [
    "Q3. Using the two-tailed test from a normal distribution:\n",
    "1. A professional basketball team wants to compare its performance with that of players in a regional league.\n",
    "2. The pros are known to have a historic mean of 12 points per game with a standard deviation of 5.5.\n",
    "3. A group of 36 regional players recorded on average 10.7 points per game.\n",
    "4. The pro coach would like to know whether his professional team scores on average are different from that of the regional players.\n",
    "State the null hypothesis\n",
    "Null Hypo: (\"The mean point of the regional players is not different from the historic mean\")\n",
    "Alternative Hypo: (\"The mean point of the regional players is different from the historic mean\")"
   ]
  },
  {
   "cell_type": "markdown",
   "id": "11b0363f-aaad-41b1-ab72-4d3d4b82e1a7",
   "metadata": {},
   "source": [
    "The null hypothesis (H₀) states that the mean points of regional players is not different from the historic mean of 12 points per game.\n",
    "The alternative hypothesis (H₁) states that the mean points of regional players is different from the historic mean.\n",
    "\n",
    "Using the given data: the historic mean μ = 12, standard deviation σ = 5.5, sample mean x̄ = 10.7, and sample size n = 36.\n",
    "\n"
   ]
  },
  {
   "cell_type": "code",
   "execution_count": 7,
   "id": "760bdffb-e98c-475e-89db-3b06a4e94f49",
   "metadata": {},
   "outputs": [
    {
     "name": "stdout",
     "output_type": "stream",
     "text": [
      "Z-score: -1.418181818181819\n",
      "Two-tailed p-value: 0.15613768876786005\n",
      "Fail to reject the null hypothesis: No significant difference.\n"
     ]
    }
   ],
   "source": [
    "import math\n",
    "import scipy.stats as stats\n",
    "\n",
    "\n",
    "mu = 12       \n",
    "sigma = 5.5  \n",
    "x_bar = 10.7  \n",
    "n = 36       \n",
    "\n",
    "\n",
    "z = (x_bar - mu) / (sigma / math.sqrt(n))\n",
    "print(\"Z-score:\", z)\n",
    "\n",
    "\n",
    "p_value = 2 * (1 - stats.norm.cdf(abs(z)))\n",
    "print(\"Two-tailed p-value:\", p_value)\n",
    "\n",
    "\n",
    "alpha = 0.05\n",
    "if p_value < alpha:\n",
    "    print(\"Reject the null hypothesis: There is a significant difference.\")\n",
    "else:\n",
    "    print(\"Fail to reject the null hypothesis: No significant difference.\")\n"
   ]
  },
  {
   "cell_type": "markdown",
   "id": "25ab8d0b-db76-4245-ac81-e1413363e353",
   "metadata": {},
   "source": [
    "The two-tailed p-value corresponding to z = -1.42 is approximately 0.156.\n",
    "Since p-value (0.156) > 0.05, we fail to reject the null hypothesis. This means there is no significant difference between the mean points of regional players and the historic mean of professional players."
   ]
  },
  {
   "cell_type": "code",
   "execution_count": null,
   "id": "a6272c3d-b4ff-4469-913d-fc9df53a9594",
   "metadata": {},
   "outputs": [],
   "source": []
  }
 ],
 "metadata": {
  "kernelspec": {
   "display_name": "Python 3 (ipykernel)",
   "language": "python",
   "name": "python3"
  },
  "language_info": {
   "codemirror_mode": {
    "name": "ipython",
    "version": 3
   },
   "file_extension": ".py",
   "mimetype": "text/x-python",
   "name": "python",
   "nbconvert_exporter": "python",
   "pygments_lexer": "ipython3",
   "version": "3.13.5"
  }
 },
 "nbformat": 4,
 "nbformat_minor": 5
}
