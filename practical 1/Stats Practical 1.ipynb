{
 "cells": [
  {
   "cell_type": "code",
   "execution_count": 5,
   "id": "57e6502d-078f-432f-80c8-1811ee22abff",
   "metadata": {},
   "outputs": [
    {
     "name": "stdout",
     "output_type": "stream",
     "text": [
      "   ID    Name   Age   Salary Department\n",
      "0   1    Amit  20.0  50000.0         HR\n",
      "1   2  Simran  24.0  60000.0    Finance\n",
      "2   3     Raj  26.0      NaN         IT\n",
      "3   4   Priya   NaN  45000.0  Marketing\n",
      "4   5    Neha  37.0  70000.0    Finance\n",
      "5   6   Arjun  43.0  80000.0         IT\n",
      "6   7   Karan   NaN  75000.0        NaN\n",
      "7   8   Pooja  50.0      NaN         HR\n",
      "8   9    Ravi  32.0  67000.0         IT\n",
      "9  10   Sneha  55.0  52000.0  Marketing\n"
     ]
    }
   ],
   "source": [
    "#problem 1\n",
    "import pandas as pd\n",
    "import numpy as np\n",
    "data = {\n",
    "    \"ID\": [1, 2, 3, 4, 5, 6, 7, 8, 9, 10],\n",
    "    \"Name\": [\"Amit\", \"Simran\", \"Raj\", \"Priya\", \"Neha\", \n",
    "             \"Arjun\", \"Karan\", \"Pooja\", \"Ravi\", \"Sneha\"],\n",
    "    \"Age\": [20, 24, 26, np.nan, 37, 43, np.nan, 50, 32, 55],\n",
    "    \"Salary\": [50000, 60000, np.nan, 45000, 70000, \n",
    "               80000, 75000, np.nan, 67000, 52000],\n",
    "    \"Department\": [\"HR\", \"Finance\", \"IT\", \"Marketing\", \n",
    "                   \"Finance\", \"IT\", np.nan, \"HR\", \"IT\", \"Marketing\"]\n",
    "}\n",
    "\n",
    "df = pd.DataFrame(data)\n",
    "\n",
    "print(df)\n"
   ]
  },
  {
   "cell_type": "code",
   "execution_count": 2,
   "id": "77d36a10-3bcd-435e-a64c-a2bfd31656dd",
   "metadata": {},
   "outputs": [
    {
     "name": "stdout",
     "output_type": "stream",
     "text": [
      "Mean Salary: 62375.0\n"
     ]
    }
   ],
   "source": [
    "mean_salary = df[\"Salary\"].mean()\n",
    "print(\"Mean Salary:\", mean_salary)\n"
   ]
  },
  {
   "cell_type": "code",
   "execution_count": 3,
   "id": "d8cf2e5f-53de-4969-af30-4dc91935c529",
   "metadata": {},
   "outputs": [
    {
     "name": "stdout",
     "output_type": "stream",
     "text": [
      "Median Salary: 63500.0\n"
     ]
    }
   ],
   "source": [
    "median_salary = df[\"Salary\"].median()\n",
    "print(\"Median Salary:\", median_salary)\n"
   ]
  },
  {
   "cell_type": "code",
   "execution_count": 4,
   "id": "b6be0d64-04a5-421c-9fa5-5d3d5c7dd741",
   "metadata": {},
   "outputs": [
    {
     "name": "stdout",
     "output_type": "stream",
     "text": [
      "Age-Weighted Mean Salary: 63857.81990521327\n"
     ]
    }
   ],
   "source": [
    "main_data = df.dropna(subset=[\"Age\", \"Salary\"])\n",
    "\n",
    "weighted_mean_salary = (main_data[\"Age\"] * main_data[\"Salary\"]).sum() / main_data[\"Age\"].sum()\n",
    "print(\"Age-Weighted Mean Salary:\", weighted_mean_salary)\n"
   ]
  },
  {
   "cell_type": "markdown",
   "id": "34a822f4-0606-4106-b790-35342faa0bf9",
   "metadata": {},
   "source": [
    "Ques- Explain when a weighted mean is preferable.\n",
    "ANS-\n",
    "A weighted mean is preferable when not all data points should contribute equally to the average.\n",
    "means,some values are more important or carry more weight than others.\n",
    "As the example given above:\n",
    "Age-Weighted Salary:\n",
    "If we want to reflect that salaries of older employees matter more, then we give higher weight to older ages.A simple mean would treat a 20-year-old and a 55-year-old equally, but weighted mean acknowledges the difference.\n",
    "A weighted mean is preferable when different values represent different levels of importance, frequency, or contribution, so the average reflects reality more accurately."
   ]
  },
  {
   "cell_type": "code",
   "execution_count": 8,
   "id": "648c763c-d89e-4552-8044-a3ea80c7e30d",
   "metadata": {},
   "outputs": [
    {
     "name": "stdout",
     "output_type": "stream",
     "text": [
      "Mean Salary: 62375.0\n",
      "Standard Deviation of Salary: 12637.105229103245\n",
      "\n",
      "Z-scores:\n",
      " 0   -0.979259\n",
      "1   -0.187939\n",
      "2         NaN\n",
      "3   -1.374919\n",
      "4    0.603382\n",
      "5    1.394702\n",
      "6    0.999042\n",
      "7         NaN\n",
      "8    0.365986\n",
      "9   -0.820995\n",
      "Name: Salary, dtype: float64\n",
      "\n",
      "Number of Outliers: 0\n"
     ]
    }
   ],
   "source": [
    "#problem 2\n",
    "import pandas as pd\n",
    "import numpy as np\n",
    "income = df[\"Salary\"]\n",
    "mean_income = income.mean()\n",
    "std_income = income.std()\n",
    "z_scores = (income - mean_income) / std_income\n",
    "outliers = z_scores[np.abs(z_scores) > 3]\n",
    "print(\"Mean Salary:\", mean_income)\n",
    "print(\"Standard Deviation of Salary:\", std_income)\n",
    "print(\"\\nZ-scores:\\n\", z_scores)\n",
    "print(\"\\nNumber of Outliers:\", outliers.shape[0])\n"
   ]
  },
  {
   "cell_type": "code",
   "execution_count": 9,
   "id": "1565044e-fee4-4793-8d56-5e2c2ad9f185",
   "metadata": {},
   "outputs": [
    {
     "name": "stdout",
     "output_type": "stream",
     "text": [
      "  Age_Bin  Count  Mean_Income  Median_Income\n",
      "0   18-25      2      55000.0        55000.0\n",
      "1   25-35      1      67000.0        67000.0\n",
      "2   35-45      2      75000.0        75000.0\n",
      "3   45-60      1      52000.0        52000.0\n"
     ]
    }
   ],
   "source": [
    "#problem 3\n",
    "ages = df[\"Age\"]\n",
    "salaries = df[\"Salary\"]\n",
    "bin1 = salaries[(ages >= 18) & (ages < 25)]\n",
    "bin2 = salaries[(ages >= 25) & (ages < 35)]\n",
    "bin3 = salaries[(ages >= 35) & (ages < 45)]\n",
    "bin4 = salaries[(ages >= 45) & (ages < 60)]\n",
    "final = pd.DataFrame({\n",
    "    \"Age_Bin\": [\"18-25\", \"25-35\", \"35-45\", \"45-60\"],\n",
    "    \"Count\": [bin1.count(), bin2.count(), bin3.count(), bin4.count()],\n",
    "    \"Mean_Income\": [bin1.mean(), bin2.mean(), bin3.mean(), bin4.mean()],\n",
    "    \"Median_Income\": [bin1.median(), bin2.median(), bin3.median(), bin4.median()]\n",
    "})\n",
    "\n",
    "print(final)\n",
    "\n"
   ]
  },
  {
   "cell_type": "code",
   "execution_count": 13,
   "id": "acca7f75-f4f1-49d7-b9eb-0d41814c0b6e",
   "metadata": {},
   "outputs": [
    {
     "name": "stdout",
     "output_type": "stream",
     "text": [
      "array: [[21 22 23]\n",
      " [24 25 26]\n",
      " [27 28 29]]\n",
      "\n",
      "Shape of array: (3, 3)\n",
      "Size of array: 9\n",
      "\n",
      "Transpose of array:\n",
      " [[21 24 27]\n",
      " [22 25 28]\n",
      " [23 26 29]]\n",
      "\n",
      "Flattened array: [21 22 23 24 25 26 27 28 29]\n"
     ]
    }
   ],
   "source": [
    "#problem 4\n",
    "import numpy as np\n",
    "a = np.array([[21, 22, 23],\n",
    "                [24, 25, 26],\n",
    "                [27, 28, 29]])\n",
    "print(\"array:\", a)\n",
    "#Shape and Resize → shape, size, Transpose, Flatten\n",
    "print(\"\\nShape of array:\", a.shape)   \n",
    "print(\"Size of array:\", a.size)        \n",
    "print(\"\\nTranspose of array:\\n\", a.T)  \n",
    "print(\"\\nFlattened array:\", a.flatten())\n"
   ]
  },
  {
   "cell_type": "code",
   "execution_count": 19,
   "id": "9201c5ca-97c7-4788-a7ee-075bf865bd77",
   "metadata": {},
   "outputs": [
    {
     "name": "stdout",
     "output_type": "stream",
     "text": [
      "\n",
      "Last row (negative indexing): [27 28 29]\n",
      "Last element of last row: 29\n",
      "\n",
      "Error during slicing: index 5 is out of bounds for axis 1 with size 3\n"
     ]
    }
   ],
   "source": [
    "#Showcasing negative indexing and display error while doing slicing\n",
    "print(\"\\nLast row (negative indexing):\", a[-1])  \n",
    "print(\"Last element of last row:\", a[-1, -1])    \n",
    "try:\n",
    "    print(a[:, 5])  \n",
    "except IndexError as e:\n",
    "    print(\"\\nError during slicing:\", e)"
   ]
  },
  {
   "cell_type": "code",
   "execution_count": 21,
   "id": "7800d197-1bef-4438-aa4d-80af4de28a2e",
   "metadata": {},
   "outputs": [
    {
     "name": "stdout",
     "output_type": "stream",
     "text": [
      "broadcasting [[31 32 33]\n",
      " [34 35 36]\n",
      " [37 38 39]]\n",
      "\n",
      "Dot product :\n",
      " [[1454 1652 1850]\n",
      " [1652 1877 2102]\n",
      " [1850 2102 2354]]\n"
     ]
    }
   ],
   "source": [
    "#Arithmetic Operations → Broadcasting, Dot Product\n",
    "print(\"broadcasting\", a + 10) \n",
    "print(\"\\nDot product :\\n\", np.dot(a, a.T))\n"
   ]
  },
  {
   "cell_type": "code",
   "execution_count": 23,
   "id": "65a7854d-bd6b-4057-b693-c317bd7646d1",
   "metadata": {},
   "outputs": [
    {
     "name": "stdout",
     "output_type": "stream",
     "text": [
      "Determinant: -2.131628207280336e-14\n",
      "Inverse:\n",
      " [[ 1.40737488e+14 -2.81474977e+14  1.40737488e+14]\n",
      " [-2.81474977e+14  5.62949953e+14 -2.81474977e+14]\n",
      " [ 1.40737488e+14 -2.81474977e+14  1.40737488e+14]]\n"
     ]
    }
   ],
   "source": [
    "#Linear Algebra → Determinant, Inverse\n",
    "det = np.linalg.det(a)\n",
    "print(\"Determinant:\", det)\n",
    "inverse = np.linalg.inv(a)\n",
    "print(\"Inverse:\\n\", inverse)"
   ]
  },
  {
   "cell_type": "code",
   "execution_count": null,
   "id": "60c54c7e-6980-44fd-8dee-f0b5952e1e8a",
   "metadata": {},
   "outputs": [],
   "source": []
  }
 ],
 "metadata": {
  "kernelspec": {
   "display_name": "Python 3 (ipykernel)",
   "language": "python",
   "name": "python3"
  },
  "language_info": {
   "codemirror_mode": {
    "name": "ipython",
    "version": 3
   },
   "file_extension": ".py",
   "mimetype": "text/x-python",
   "name": "python",
   "nbconvert_exporter": "python",
   "pygments_lexer": "ipython3",
   "version": "3.11.10"
  }
 },
 "nbformat": 4,
 "nbformat_minor": 5
}
