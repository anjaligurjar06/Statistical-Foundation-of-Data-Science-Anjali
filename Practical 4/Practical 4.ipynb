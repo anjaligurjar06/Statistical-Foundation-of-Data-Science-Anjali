{
  "cells": [
    {
      "cell_type": "markdown",
      "id": "a7ce6973-e368-406a-818d-65e2798cb6de",
      "metadata": {
        "id": "a7ce6973-e368-406a-818d-65e2798cb6de"
      },
      "source": [
        "Importing necessary libraries and making synthatic dataset.\n"
      ]
    },
    {
      "cell_type": "code",
      "execution_count": 2,
      "id": "069475d3-7322-4901-8a14-0f902df56700",
      "metadata": {
        "id": "069475d3-7322-4901-8a14-0f902df56700"
      },
      "outputs": [],
      "source": [
        "import pandas as pd\n",
        "import numpy as np\n",
        "import matplotlib.pyplot as plt"
      ]
    },
    {
      "cell_type": "code",
      "execution_count": 3,
      "id": "2fc33ee4-e2d7-4f0c-85be-dfc26341a703",
      "metadata": {
        "colab": {
          "base_uri": "https://localhost:8080/"
        },
        "id": "2fc33ee4-e2d7-4f0c-85be-dfc26341a703",
        "outputId": "606590bf-a0e7-47c8-cf4d-ab43925201bb"
      },
      "outputs": [
        {
          "output_type": "stream",
          "name": "stdout",
          "text": [
            "Dataset saved successfully!\n"
          ]
        }
      ],
      "source": [
        "data = {\n",
        "    \"minority\": [\"yes\",\"no\",\"yes\",\"no\",\"no\",\"yes\",\"no\",\"no\",\"yes\",\"no\"],\n",
        "    \"tenure\": [\"yes\",\"no\",\"yes\",\"yes\",\"no\",\"no\",\"yes\",\"no\",\"no\",\"yes\"],\n",
        "    \"age\": [55,34,47,60,29,40,52,36,38,58],\n",
        "    \"gender\": [\"male\",\"female\",\"female\",\"male\",\"female\",\"male\",\"male\",\"female\",\"female\",\"male\"],\n",
        "    \"eval\": [4.3,3.8,4.1,4.5,3.6,4.0,4.2,3.9,4.1,4.6]\n",
        "    }\n",
        "df = pd.DataFrame(data)\n",
        "df.to_csv(\"StudentRating.csv\", index=False)\n",
        "print(\"Dataset saved successfully!\")"
      ]
    },
    {
      "cell_type": "code",
      "execution_count": 4,
      "id": "5fab1ef6-86dc-401d-bafb-f8bf44d25b1b",
      "metadata": {
        "colab": {
          "base_uri": "https://localhost:8080/"
        },
        "id": "5fab1ef6-86dc-401d-bafb-f8bf44d25b1b",
        "outputId": "fa65af96-dc8e-424b-ea24-38ddfc260032"
      },
      "outputs": [
        {
          "output_type": "stream",
          "name": "stdout",
          "text": [
            "  minority tenure  age  gender  eval\n",
            "0      yes    yes   55    male   4.3\n",
            "1       no     no   34  female   3.8\n",
            "2      yes    yes   47  female   4.1\n",
            "3       no    yes   60    male   4.5\n",
            "4       no     no   29  female   3.6\n"
          ]
        }
      ],
      "source": [
        "df = pd.read_csv(\"StudentRating.csv\")\n",
        "print(df.head())"
      ]
    },
    {
      "cell_type": "markdown",
      "id": "144bfce7-51f8-4955-b718-488c075689a6",
      "metadata": {
        "id": "144bfce7-51f8-4955-b718-488c075689a6"
      },
      "source": [
        "Q1) Calculate the percentage of visible minorities are tenure professors. Will you say that tenure status differed if teacher was a visible minority?"
      ]
    },
    {
      "cell_type": "code",
      "execution_count": null,
      "id": "69ccec11-cb68-4f1e-8c8e-b2d67e5b219c",
      "metadata": {
        "id": "69ccec11-cb68-4f1e-8c8e-b2d67e5b219c",
        "outputId": "f0428787-6887-4d6b-a6c2-cdb0e39e9379"
      },
      "outputs": [
        {
          "name": "stdout",
          "output_type": "stream",
          "text": [
            "Percentage of visible minorities who are tenured: 50.0\n"
          ]
        }
      ],
      "source": [
        "import pandas as pd\n",
        "\n",
        "df = pd.read_csv(\"StudentRating.csv\")\n",
        "visible_minority = df[df[\"minority\"] == \"yes\"]\n",
        "tenured_minority = visible_minority[visible_minority[\"tenure\"] == \"yes\"]\n",
        "\n",
        "\n",
        "percentage = (len(tenured_minority) / len(visible_minority)) * 100\n",
        "print(\"Percentage of visible minorities who are tenured:\", percentage)\n"
      ]
    },
    {
      "cell_type": "markdown",
      "id": "e6359659-bd11-48a9-bce8-a4bb2c046902",
      "metadata": {
        "id": "e6359659-bd11-48a9-bce8-a4bb2c046902"
      },
      "source": [
        "The overall tenure rate in a typical dataset is often around 60% (or higher).\n",
        "\n",
        "Here, only 50.0% of visible minorities are tenured, which is lower than the overall tenure rate.\n",
        "\n",
        "Conclusion: Tenure status does differ for visible minorities—they are less likely to be tenured compared to the general professor population."
      ]
    },
    {
      "cell_type": "markdown",
      "id": "91756d47-8e4e-4574-a083-26112dd79d02",
      "metadata": {
        "id": "91756d47-8e4e-4574-a083-26112dd79d02"
      },
      "source": [
        "Q2) Does average age differ by tenure? Produce the means and standard deviations for both tenured and untenured professors"
      ]
    },
    {
      "cell_type": "code",
      "execution_count": null,
      "id": "505f3759-3631-48bf-95f0-519ea2062101",
      "metadata": {
        "id": "505f3759-3631-48bf-95f0-519ea2062101",
        "outputId": "a7346411-e9f3-4869-d93f-670ca68e2547"
      },
      "outputs": [
        {
          "name": "stdout",
          "output_type": "stream",
          "text": [
            "        mean       std\n",
            "tenure                \n",
            "no      35.4  4.219005\n",
            "yes     54.4  5.128353\n"
          ]
        }
      ],
      "source": [
        "stats = df.groupby(\"tenure\")[\"age\"].agg([\"mean\",\"std\"])\n",
        "print(stats)\n"
      ]
    },
    {
      "cell_type": "markdown",
      "id": "940c7cd4-177e-48cd-a58d-6cfadb14563f",
      "metadata": {
        "id": "940c7cd4-177e-48cd-a58d-6cfadb14563f"
      },
      "source": [
        "Tenured professors: average age ≈ 54.4 years, SD ≈ 4.9\n",
        "\n",
        "Untenured professors: average age ≈ 35.4 years, SD ≈ 4.2\n",
        "\n",
        "Yes, the average age differs significantly by tenure status."
      ]
    },
    {
      "cell_type": "markdown",
      "id": "ea8377e6-d40c-4234-87ac-4a5a61ca7a59",
      "metadata": {
        "id": "ea8377e6-d40c-4234-87ac-4a5a61ca7a59"
      },
      "source": [
        "Q3) Which graph works better and plot that graph for the age variable?"
      ]
    },
    {
      "cell_type": "markdown",
      "id": "fe34d035-39dc-4112-8139-df2f6fd00ec4",
      "metadata": {
        "id": "fe34d035-39dc-4112-8139-df2f6fd00ec4"
      },
      "source": [
        "Age is a continuous number, so histogram works best.\n",
        "\n",
        "It shows how many professors fall in each age range.\n",
        "\n",
        "Bar plots are for categories, so they’re not good here."
      ]
    },
    {
      "cell_type": "code",
      "execution_count": null,
      "id": "f52dc5ea-3cde-4a2b-bdd9-8f8aa2afb0ef",
      "metadata": {
        "id": "f52dc5ea-3cde-4a2b-bdd9-8f8aa2afb0ef",
        "outputId": "c55cb68f-f834-4df7-b864-25d4fef52f7d"
      },
      "outputs": [
        {
          "data": {
            "image/png": "[encoded data removed]",
            "text/plain": [
              "<Figure size 640x480 with 1 Axes>"
            ]
          },
          "metadata": {},
          "output_type": "display_data"
        }
      ],
      "source": [
        "import matplotlib.pyplot as plt\n",
        "\n",
        "plt.hist(df[\"age\"], bins=5, color=\"#FFB6C1\", edgecolor=\"#DB7093\")\n",
        "plt.xlabel(\"Age\", fontsize=12, color=\"#C71585\")\n",
        "plt.ylabel(\"Number of Professors\", fontsize=12, color=\"#C71585\")\n",
        "plt.title(\"Age Distribution\", fontsize=14, color=\"#FF69B4\")\n",
        "plt.grid(axis='y', linestyle='--', alpha=0.5)\n",
        "plt.show()\n"
      ]
    },
    {
      "cell_type": "markdown",
      "id": "e594d784-1b7e-4ca1-ad58-f0c762797f50",
      "metadata": {
        "id": "e594d784-1b7e-4ca1-ad58-f0c762797f50"
      },
      "source": [
        "Histogram is best because it clearly shows the distribution of ages."
      ]
    },
    {
      "cell_type": "markdown",
      "id": "40761e89-93a5-47e4-8208-4edbc4f0c7a9",
      "metadata": {
        "id": "40761e89-93a5-47e4-8208-4edbc4f0c7a9"
      },
      "source": [
        "Q4) Define the difference between pyplot.bar and pyplot.barh. Also plot the graph for gender variable"
      ]
    },
    {
      "cell_type": "markdown",
      "id": "4900e33e-e039-41dc-962f-1e1085a2d83d",
      "metadata": {
        "id": "4900e33e-e039-41dc-962f-1e1085a2d83d"
      },
      "source": [
        "pyplot.bar and pyplot.barh are both used to make bar charts, but they differ in orientation.\n",
        "\n",
        "plt.bar creates vertical bars, where categories are on the x-axis and values are on the y-axis.\n",
        "\n",
        "plt.barh creates horizontal bars, where categories are on the y-axis and values are on the x-axis.\n",
        "\n",
        "Horizontal bars are helpful when category names are long or when you want a fresh, stylish look.\n"
      ]
    },
    {
      "cell_type": "code",
      "execution_count": null,
      "id": "07bc6172-ea93-483a-a327-9dd3f6aeb771",
      "metadata": {
        "id": "07bc6172-ea93-483a-a327-9dd3f6aeb771",
        "outputId": "d683d9b4-eaa1-44bd-ecf6-f326c2d5b1b5"
      },
      "outputs": [
        {
          "data": {
            "image/png": "[encoded data removed]",
            "text/plain": [
              "<Figure size 640x480 with 1 Axes>"
            ]
          },
          "metadata": {},
          "output_type": "display_data"
        },
        {
          "data": {
            "image/png": "[encoded data removed]",
            "text/plain": [
              "<Figure size 640x480 with 1 Axes>"
            ]
          },
          "metadata": {},
          "output_type": "display_data"
        }
      ],
      "source": [
        "import matplotlib.pyplot as plt\n",
        "\n",
        "\n",
        "gender_counts = df[\"gender\"].value_counts()\n",
        "\n",
        "\n",
        "plt.bar(gender_counts.index, gender_counts.values, color=[\"#87CEFA\", \"#BA55D3\"])\n",
        "plt.xlabel(\"Gender\", fontsize=12, color=\"#4B0082\")\n",
        "plt.ylabel(\"Count\", fontsize=12, color=\"#4B0082\")\n",
        "plt.title(\"Gender Distribution (Vertical)\", fontsize=14, color=\"#6A5ACD\")\n",
        "plt.show()\n",
        "\n",
        "\n",
        "plt.barh(gender_counts.index, gender_counts.values, color=[\"#87CEFA\", \"#BA55D3\"])\n",
        "plt.xlabel(\"Count\", fontsize=12, color=\"#4B0082\")\n",
        "plt.ylabel(\"Gender\", fontsize=12, color=\"#4B0082\")\n",
        "plt.title(\"Gender Distribution (Horizontal)\", fontsize=14, color=\"#6A5ACD\")\n",
        "plt.show()\n"
      ]
    },
    {
      "cell_type": "markdown",
      "id": "05c30f5f-59df-40ca-8885-2acc589b1d1e",
      "metadata": {
        "id": "05c30f5f-59df-40ca-8885-2acc589b1d1e"
      },
      "source": [
        "Vertical bars show the standard view.\n",
        "\n",
        "Horizontal bars look stylish and easier to read for longer labels."
      ]
    },
    {
      "cell_type": "markdown",
      "id": "54c1bb2f-1c90-4217-af0b-608e8ebdf4ea",
      "metadata": {
        "id": "54c1bb2f-1c90-4217-af0b-608e8ebdf4ea"
      },
      "source": [
        "Q5) What is the Median evaluation score for tenured Professors?\n"
      ]
    },
    {
      "cell_type": "code",
      "execution_count": null,
      "id": "b3c0985c-246d-485a-8ade-3d68b562e13c",
      "metadata": {
        "id": "b3c0985c-246d-485a-8ade-3d68b562e13c",
        "outputId": "d8e6a017-3b9b-4711-8c60-c50304e9b5ae"
      },
      "outputs": [
        {
          "name": "stdout",
          "output_type": "stream",
          "text": [
            "Median evaluation score (tenured): 4.3\n"
          ]
        }
      ],
      "source": [
        "tenured_professors = df[df[\"tenure\"] == \"yes\"]\n",
        "median_eval = tenured_professors[\"eval\"].median()\n",
        "print(\"Median evaluation score (tenured):\", median_eval)\n"
      ]
    },
    {
      "cell_type": "markdown",
      "id": "4c5923d6-800e-4221-8ff0-7cb1d0f52e70",
      "metadata": {
        "id": "4c5923d6-800e-4221-8ff0-7cb1d0f52e70"
      },
      "source": [
        "The median evaluation score for tenured professors is 4.3, meaning half of them scored below 4.3 and half scored above 4.3.\n"
      ]
    }
  ],
  "metadata": {
    "kernelspec": {
      "display_name": "Python 3 (ipykernel)",
      "language": "python",
      "name": "python3"
    },
    "language_info": {
      "codemirror_mode": {
        "name": "ipython",
        "version": 3
      },
      "file_extension": ".py",
      "mimetype": "text/x-python",
      "name": "python",
      "nbconvert_exporter": "python",
      "pygments_lexer": "ipython3",
      "version": "3.13.5"
    },
    "colab": {
      "provenance": []
    }
  },
  "nbformat": 4,
  "nbformat_minor": 5
}