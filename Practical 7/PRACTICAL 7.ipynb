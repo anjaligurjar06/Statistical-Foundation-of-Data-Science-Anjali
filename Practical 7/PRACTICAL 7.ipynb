{
 "cells": [
  {
   "cell_type": "code",
   "execution_count": 1,
   "id": "62d99e4d-fd22-4ad4-8f31-f6146f795fce",
   "metadata": {},
   "outputs": [],
   "source": [
    "import pandas as pd\n",
    "from scipy import stats\n",
    "import statsmodels.formula.api as smf\n",
    "import statsmodels.api as sm"
   ]
  },
  {
   "cell_type": "code",
   "execution_count": 3,
   "id": "092f952d-c688-4d52-93bb-1ae6361a4169",
   "metadata": {},
   "outputs": [
    {
     "data": {
      "text/html": [
       "<div>\n",
       "<style scoped>\n",
       "    .dataframe tbody tr th:only-of-type {\n",
       "        vertical-align: middle;\n",
       "    }\n",
       "\n",
       "    .dataframe tbody tr th {\n",
       "        vertical-align: top;\n",
       "    }\n",
       "\n",
       "    .dataframe thead th {\n",
       "        text-align: right;\n",
       "    }\n",
       "</style>\n",
       "<table border=\"1\" class=\"dataframe\">\n",
       "  <thead>\n",
       "    <tr style=\"text-align: right;\">\n",
       "      <th></th>\n",
       "      <th>prof</th>\n",
       "      <th>age</th>\n",
       "      <th>eval</th>\n",
       "      <th>beauty</th>\n",
       "      <th>rating</th>\n",
       "      <th>students</th>\n",
       "      <th>gender</th>\n",
       "      <th>tenure</th>\n",
       "      <th>division</th>\n",
       "    </tr>\n",
       "  </thead>\n",
       "  <tbody>\n",
       "    <tr>\n",
       "      <th>0</th>\n",
       "      <td>Prof_52</td>\n",
       "      <td>63</td>\n",
       "      <td>4.21</td>\n",
       "      <td>5.34</td>\n",
       "      <td>4.08</td>\n",
       "      <td>77</td>\n",
       "      <td>Male</td>\n",
       "      <td>No</td>\n",
       "      <td>Upper</td>\n",
       "    </tr>\n",
       "    <tr>\n",
       "      <th>1</th>\n",
       "      <td>Prof_93</td>\n",
       "      <td>52</td>\n",
       "      <td>2.77</td>\n",
       "      <td>7.32</td>\n",
       "      <td>3.91</td>\n",
       "      <td>123</td>\n",
       "      <td>Male</td>\n",
       "      <td>Yes</td>\n",
       "      <td>Upper</td>\n",
       "    </tr>\n",
       "    <tr>\n",
       "      <th>2</th>\n",
       "      <td>Prof_15</td>\n",
       "      <td>31</td>\n",
       "      <td>4.24</td>\n",
       "      <td>8.54</td>\n",
       "      <td>4.39</td>\n",
       "      <td>88</td>\n",
       "      <td>Male</td>\n",
       "      <td>Yes</td>\n",
       "      <td>Lower</td>\n",
       "    </tr>\n",
       "    <tr>\n",
       "      <th>3</th>\n",
       "      <td>Prof_72</td>\n",
       "      <td>33</td>\n",
       "      <td>4.46</td>\n",
       "      <td>5.40</td>\n",
       "      <td>3.78</td>\n",
       "      <td>106</td>\n",
       "      <td>Female</td>\n",
       "      <td>Yes</td>\n",
       "      <td>Upper</td>\n",
       "    </tr>\n",
       "    <tr>\n",
       "      <th>4</th>\n",
       "      <td>Prof_61</td>\n",
       "      <td>32</td>\n",
       "      <td>3.58</td>\n",
       "      <td>5.61</td>\n",
       "      <td>3.66</td>\n",
       "      <td>66</td>\n",
       "      <td>Female</td>\n",
       "      <td>No</td>\n",
       "      <td>Lower</td>\n",
       "    </tr>\n",
       "  </tbody>\n",
       "</table>\n",
       "</div>"
      ],
      "text/plain": [
       "      prof  age  eval  beauty  rating  students  gender tenure division\n",
       "0  Prof_52   63  4.21    5.34    4.08        77    Male     No    Upper\n",
       "1  Prof_93   52  2.77    7.32    3.91       123    Male    Yes    Upper\n",
       "2  Prof_15   31  4.24    8.54    4.39        88    Male    Yes    Lower\n",
       "3  Prof_72   33  4.46    5.40    3.78       106  Female    Yes    Upper\n",
       "4  Prof_61   32  3.58    5.61    3.66        66  Female     No    Lower"
      ]
     },
     "execution_count": 3,
     "metadata": {},
     "output_type": "execute_result"
    }
   ],
   "source": [
    "df = pd.read_csv(r\"C:\\Users\\Lenovo\\Downloads\\teachers_rating_an.csv\")\n",
    "df.head()"
   ]
  },
  {
   "cell_type": "markdown",
   "id": "c2425498-8e60-49df-b9f6-0c2f968432e3",
   "metadata": {},
   "source": [
    "Q1. Regression with T-test: Using the teachers rating data set, does gender\n",
    "affect teaching evaluation rates?\n"
   ]
  },
  {
   "cell_type": "code",
   "execution_count": 15,
   "id": "d36f6430-1c92-41ad-97bc-e0f09acaaeb4",
   "metadata": {},
   "outputs": [
    {
     "name": "stdout",
     "output_type": "stream",
     "text": [
      "Columns in dataset: Index(['prof', 'age', 'eval', 'beauty', 'rating', 'students', 'gender',\n",
      "       'tenure', 'division'],\n",
      "      dtype='object')\n",
      "\n",
      "Sample data:\n",
      "      prof  age  eval  beauty  rating  students  gender tenure division\n",
      "0  Prof_52   63  4.21    5.34    4.08        77    Male     No    Upper\n",
      "1  Prof_93   52  2.77    7.32    3.91       123    Male    Yes    Upper\n",
      "2  Prof_15   31  4.24    8.54    4.39        88    Male    Yes    Lower\n",
      "3  Prof_72   33  4.46    5.40    3.78       106  Female    Yes    Upper\n",
      "4  Prof_61   32  3.58    5.61    3.66        66  Female     No    Lower\n",
      "\n",
      "OLS Regression Results:\n",
      "                            OLS Regression Results                            \n",
      "==============================================================================\n",
      "Dep. Variable:                 rating   R-squared:                       0.003\n",
      "Model:                            OLS   Adj. R-squared:                 -0.005\n",
      "Method:                 Least Squares   F-statistic:                    0.3638\n",
      "Date:                Mon, 27 Oct 2025   Prob (F-statistic):              0.548\n",
      "Time:                        21:59:21   Log-Likelihood:                -59.788\n",
      "No. Observations:                 120   AIC:                             123.6\n",
      "Df Residuals:                     118   BIC:                             129.2\n",
      "Df Model:                           1                                         \n",
      "Covariance Type:            nonrobust                                         \n",
      "=====================================================================================\n",
      "                        coef    std err          t      P>|t|      [0.025      0.975]\n",
      "-------------------------------------------------------------------------------------\n",
      "Intercept             4.1645      0.054     76.905      0.000       4.057       4.272\n",
      "C(gender)[T.Male]     0.0444      0.074      0.603      0.548      -0.101       0.190\n",
      "==============================================================================\n",
      "Omnibus:                        1.053   Durbin-Watson:                   2.273\n",
      "Prob(Omnibus):                  0.591   Jarque-Bera (JB):                1.005\n",
      "Skew:                          -0.044   Prob(JB):                        0.605\n",
      "Kurtosis:                       2.560   Cond. No.                         2.73\n",
      "==============================================================================\n",
      "\n",
      "Notes:\n",
      "[1] Standard Errors assume that the covariance matrix of the errors is correctly specified.\n",
      "\n",
      "T-test Results:\n",
      "T-statistic: 0.597\n",
      "P-value: 0.551\n",
      "\n",
      "Conclusion: Gender does NOT significantly affect teaching evaluations (p ≥ 0.05).\n"
     ]
    }
   ],
   "source": [
    "import pandas as pd\n",
    "import statsmodels.formula.api as smf\n",
    "import scipy.stats as stats\n",
    "data = pd.read_csv(r\"C:\\Users\\Lenovo\\Downloads\\teachers_rating_an.csv\")\n",
    "\n",
    "print(\"Columns in dataset:\", data.columns)\n",
    "data.columns = data.columns.str.strip().str.lower()\n",
    "print(\"\\nSample data:\")\n",
    "print(data.head())\n",
    "model = smf.ols('rating ~ C(gender)', data=data).fit()\n",
    "print(\"\\nOLS Regression Results:\")\n",
    "print(model.summary())\n",
    "\n",
    "male = data[data['gender'].str.lower() == 'male']['rating']\n",
    "female = data[data['gender'].str.lower() == 'female']['rating']\n",
    "\n",
    "t_stat, p_value = stats.ttest_ind(male, female, equal_var=False)\n",
    "print(\"\\nT-test Results:\")\n",
    "print(f\"T-statistic: {t_stat:.3f}\")\n",
    "print(f\"P-value: {p_value:.3f}\")\n",
    "\n",
    "if p_value < 0.05:\n",
    "    print(\"\\nConclusion: Gender has a significant effect on teaching evaluations (p < 0.05).\")\n",
    "else:\n",
    "    print(\"\\nConclusion: Gender does NOT significantly affect teaching evaluations (p ≥ 0.05).\")\n"
   ]
  },
  {
   "cell_type": "markdown",
   "id": "c4716575-7ae5-434c-8f78-eb0469fa0414",
   "metadata": {},
   "source": [
    "Q2. Regression with ANOVA: Using the teachers' rating data set, does beauty score for instructors differ by age?"
   ]
  },
  {
   "cell_type": "code",
   "execution_count": 18,
   "id": "399f88b5-7f93-40eb-9889-9e4f9807a55a",
   "metadata": {},
   "outputs": [
    {
     "name": "stdout",
     "output_type": "stream",
     "text": [
      "\n",
      "ANOVA Results:\n",
      "                  sum_sq     df         F    PR(>F)\n",
      "C(age_group)    6.770457    4.0  0.935068  0.446308\n",
      "Residual      208.167463  115.0       NaN       NaN\n"
     ]
    }
   ],
   "source": [
    "import pandas as pd\n",
    "import statsmodels.api as sm\n",
    "import statsmodels.formula.api as smf\n",
    "data = pd.read_csv(r\"C:\\Users\\Lenovo\\Downloads\\teachers_rating_an.csv\")\n",
    "\n",
    "data.columns = data.columns.str.strip().str.lower()\n",
    "if 'age_group' not in data.columns:\n",
    "    data['age_group'] = pd.cut(\n",
    "        data['age'],\n",
    "        bins=[20, 30, 40, 50, 60, 70],\n",
    "        labels=['20-30', '30-40', '40-50', '50-60', '60-70']\n",
    "    )\n",
    "\n",
    "model = smf.ols('beauty ~ C(age_group)', data=data).fit()\n",
    "anova_table = sm.stats.anova_lm(model, typ=2)\n",
    "print(\"\\nANOVA Results:\")\n",
    "print(anova_table)\n"
   ]
  },
  {
   "cell_type": "markdown",
   "id": "4b6d2be6-838c-4c5b-82a3-fa8e60ba5695",
   "metadata": {},
   "source": [
    "Q3. Correlation: Using the teachers' rating dataset, Is teaching evaluation\n",
    "score correlated with beauty score?"
   ]
  },
  {
   "cell_type": "code",
   "execution_count": 20,
   "id": "fac2b4e9-9df5-48f6-a77f-4ff292b75c0b",
   "metadata": {},
   "outputs": [
    {
     "name": "stdout",
     "output_type": "stream",
     "text": [
      "                            OLS Regression Results                            \n",
      "==============================================================================\n",
      "Dep. Variable:                 Rating   R-squared:                       0.018\n",
      "Model:                            OLS   Adj. R-squared:                  0.010\n",
      "Method:                 Least Squares   F-statistic:                     2.208\n",
      "Date:                Mon, 27 Oct 2025   Prob (F-statistic):              0.140\n",
      "Time:                        22:09:12   Log-Likelihood:                -58.861\n",
      "No. Observations:                 120   AIC:                             121.7\n",
      "Df Residuals:                     118   BIC:                             127.3\n",
      "Df Model:                           1                                         \n",
      "Covariance Type:            nonrobust                                         \n",
      "==============================================================================\n",
      "                 coef    std err          t      P>|t|      [0.025      0.975]\n",
      "------------------------------------------------------------------------------\n",
      "Intercept      4.4315      0.167     26.465      0.000       4.100       4.763\n",
      "Beauty        -0.0404      0.027     -1.486      0.140      -0.094       0.013\n",
      "==============================================================================\n",
      "Omnibus:                        1.177   Durbin-Watson:                   2.265\n",
      "Prob(Omnibus):                  0.555   Jarque-Bera (JB):                1.107\n",
      "Skew:                          -0.078   Prob(JB):                        0.575\n",
      "Kurtosis:                       2.556   Cond. No.                         29.1\n",
      "==============================================================================\n",
      "\n",
      "Notes:\n",
      "[1] Standard Errors assume that the covariance matrix of the errors is correctly specified.\n",
      "\n",
      "Correlation Analysis:\n",
      "Correlation coefficient (r): -0.136\n",
      "P-value: 0.140\n"
     ]
    }
   ],
   "source": [
    "import pandas as pd\n",
    "import statsmodels.formula.api as smf\n",
    "from scipy import stats\n",
    "data = pd.read_csv(r\"C:\\Users\\Lenovo\\Downloads\\teachers_rating_an.csv\")\n",
    "data.columns = data.columns.str.strip().str.capitalize()\n",
    "model = smf.ols('Rating ~ Beauty', data=data).fit()\n",
    "print(model.summary())\n",
    "corr, p_value = stats.pearsonr(data['Rating'], data['Beauty'])\n",
    "print(\"\\nCorrelation Analysis:\")\n",
    "print(f\"Correlation coefficient (r): {corr:.3f}\")\n",
    "print(f\"P-value: {p_value:.3f}\")\n"
   ]
  },
  {
   "cell_type": "code",
   "execution_count": null,
   "id": "7f5e8565-1bef-4a9d-b326-1c9b6ba4dd71",
   "metadata": {},
   "outputs": [],
   "source": []
  }
 ],
 "metadata": {
  "kernelspec": {
   "display_name": "Python [conda env:base] *",
   "language": "python",
   "name": "conda-base-py"
  },
  "language_info": {
   "codemirror_mode": {
    "name": "ipython",
    "version": 3
   },
   "file_extension": ".py",
   "mimetype": "text/x-python",
   "name": "python",
   "nbconvert_exporter": "python",
   "pygments_lexer": "ipython3",
   "version": "3.12.7"
  }
 },
 "nbformat": 4,
 "nbformat_minor": 5
}
